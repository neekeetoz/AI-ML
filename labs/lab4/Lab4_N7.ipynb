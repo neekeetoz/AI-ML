{
 "cells": [
  {
   "cell_type": "markdown",
   "id": "2cd9f3e8",
   "metadata": {},
   "source": [
    "# Клепиков Никита\n",
    "Вариант 7\n",
    "\n",
    "Группа 6132"
   ]
  },
  {
   "cell_type": "markdown",
   "id": "273dde59",
   "metadata": {},
   "source": [
    "## 1. DataFrame с признаками и их информативностью, отсортированный по убыванию"
   ]
  },
  {
   "cell_type": "markdown",
   "id": "1ec90d99",
   "metadata": {},
   "source": [
    "Подключаем необходимые библиотеки"
   ]
  },
  {
   "cell_type": "code",
   "execution_count": 1,
   "id": "18f5a4a6",
   "metadata": {},
   "outputs": [],
   "source": [
    "import pandas as pd\n",
    "import numpy as np\n",
    "import seaborn as sns\n",
    "import scipy as sp\n",
    "import matplotlib.pyplot as plt\n",
    "from sklearn.metrics import confusion_matrix, accuracy_score\n",
    "from sklearn.ensemble import ExtraTreesClassifier\n",
    "from sklearn.preprocessing import MinMaxScaler\n",
    "from sklearn.model_selection import train_test_split, GridSearchCV\n",
    "from sklearn.neural_network import MLPClassifier"
   ]
  },
  {
   "cell_type": "markdown",
   "id": "10505fde",
   "metadata": {},
   "source": [
    "Чтение .npy файла и создание DataFrame объекта выполняется следующей командой:\n",
    "\n",
    "`specter = np.load('7.npy')`\n",
    "\n",
    "`mask = np.load('7_mask.npy')`\n",
    "\n"
   ]
  },
  {
   "cell_type": "code",
   "execution_count": 2,
   "id": "c0f020fc",
   "metadata": {},
   "outputs": [],
   "source": [
    "specter = np.load('7.npy')\n",
    "mask = np.load('7_mask.npy')"
   ]
  },
  {
   "cell_type": "markdown",
   "id": "2e25d387",
   "metadata": {},
   "source": [
    "Создаём список всех позиций (y, x) для гиперспектра"
   ]
  },
  {
   "cell_type": "code",
   "execution_count": 3,
   "id": "cd4a2d6a",
   "metadata": {},
   "outputs": [],
   "source": [
    "height = specter.shape[0]\n",
    "width = specter.shape[1]\n",
    "ordered_positions = np.array(np.meshgrid(np.arange(height), np.arange(width))).T.reshape(-1, 2)"
   ]
  },
  {
   "cell_type": "markdown",
   "id": "f7bbb821",
   "metadata": {},
   "source": [
    "Перемешиваем и разделяем данные позиции"
   ]
  },
  {
   "cell_type": "code",
   "execution_count": 9,
   "id": "44d715e1",
   "metadata": {},
   "outputs": [],
   "source": [
    "train_indices, test_indices = train_test_split(ordered_positions, train_size=0.05, shuffle=True)"
   ]
  },
  {
   "cell_type": "markdown",
   "id": "49ac0d76",
   "metadata": {},
   "source": [
    "#### Описание данных\n",
    "<pre>\n",
    "У нас есть гиперспектр (3Д Тензор) со следующими размерностями (512, 217, 224).\n",
    "Где     224 - число слоев (признаков); \n",
    "        512x217 - высота и ширина.\n",
    "</pre>\n",
    "\n",
    "Каждый слой гиперспектра соответствует определенной [длине волны](https://ru.wikipedia.org/wiki/%D0%94%D0%BB%D0%B8%D0%BD%D0%B0_%D0%B2%D0%BE%D0%BB%D0%BD%D1%8B)\n",
    "\n",
    "Для вышеупомянутого спектра 10ый, 16ый и 35ый слои соответствуют синей, зелёной и красной компоненте цветовой модели RGB и могут быть использованы для формирования цветного изображения."
   ]
  },
  {
   "cell_type": "code",
   "execution_count": 10,
   "id": "8ebefbd5",
   "metadata": {},
   "outputs": [
    {
     "data": {
      "text/plain": [
       "((512, 512, 237), (512, 512))"
      ]
     },
     "execution_count": 10,
     "metadata": {},
     "output_type": "execute_result"
    }
   ],
   "source": [
    "specter.shape, mask.shape"
   ]
  },
  {
   "cell_type": "markdown",
   "id": "c4b98c46",
   "metadata": {},
   "source": [
    "Выберем тренировочные и тестовые выборки"
   ]
  },
  {
   "cell_type": "code",
   "execution_count": 11,
   "id": "4dce7808",
   "metadata": {},
   "outputs": [],
   "source": [
    "x_train = []\n",
    "y_train = []\n",
    "x_test = []\n",
    "y_test = []"
   ]
  },
  {
   "cell_type": "code",
   "execution_count": 12,
   "id": "e472b642",
   "metadata": {},
   "outputs": [],
   "source": [
    "for idx in train_indices:\n",
    "    x_train.append(specter[idx[0], idx[1], ::])\n",
    "    y_train.append(mask[idx[0], idx[1]])    \n",
    "    \n",
    "for idx in test_indices:\n",
    "    x_test.append(specter[idx[0], idx[1], ::])\n",
    "    y_test.append(mask[idx[0], idx[1]])    \n",
    "    \n",
    "x_train = np.array(x_train, copy=False)\n",
    "y_train = np.array(y_train, copy=False)\n",
    "x_test = np.array(x_test, copy=False)\n",
    "y_test = np.array(y_test, copy=False)"
   ]
  },
  {
   "cell_type": "code",
   "execution_count": 13,
   "id": "aab3d7bd",
   "metadata": {},
   "outputs": [
    {
     "data": {
      "text/plain": [
       "((65536, 237), (65536,), (196608, 237), (196608,))"
      ]
     },
     "execution_count": 13,
     "metadata": {},
     "output_type": "execute_result"
    }
   ],
   "source": [
    "x_train.shape, y_train.shape, x_test.shape, y_test.shape"
   ]
  },
  {
   "cell_type": "markdown",
   "id": "3e81ac99",
   "metadata": {},
   "source": [
    "Масштабируем данные"
   ]
  },
  {
   "cell_type": "code",
   "execution_count": 19,
   "id": "27715295",
   "metadata": {},
   "outputs": [],
   "source": [
    "mms = MinMaxScaler(feature_range=(0, 10))\n",
    "x_test = mms.fit_transform(x_test, y_test)\n",
    "x_train = mms.transform(x_train)"
   ]
  },
  {
   "cell_type": "markdown",
   "id": "9fc5303f",
   "metadata": {},
   "source": [
    "`ExtraTreeClassifier` сам по себе не является методом отбора информативных признаков. Однако он *может* быть использовать для определения коэффициентов важности (информативности) признаков, которые могут быть использованы для выбора наиболее информативных признаков."
   ]
  },
  {
   "cell_type": "code",
   "execution_count": 20,
   "id": "c4c0e650",
   "metadata": {},
   "outputs": [],
   "source": [
    "model = ExtraTreesClassifier()\n",
    "model = model.fit(x_train, y_train)"
   ]
  },
  {
   "cell_type": "markdown",
   "id": "74d9412f",
   "metadata": {},
   "source": [
    "Создадим DataFrame из полученных значений `feature_importances_`. И выведем 10 признаков с наибольшими соответствующими значениями информативности."
   ]
  },
  {
   "cell_type": "code",
   "execution_count": 21,
   "id": "b0922101",
   "metadata": {},
   "outputs": [],
   "source": [
    "best_features = pd.DataFrame(data=model.feature_importances_, columns=['feature_importance'])"
   ]
  },
  {
   "cell_type": "code",
   "execution_count": 22,
   "id": "53be8aba",
   "metadata": {},
   "outputs": [
    {
     "data": {
      "text/html": [
       "<div>\n",
       "<style scoped>\n",
       "    .dataframe tbody tr th:only-of-type {\n",
       "        vertical-align: middle;\n",
       "    }\n",
       "\n",
       "    .dataframe tbody tr th {\n",
       "        vertical-align: top;\n",
       "    }\n",
       "\n",
       "    .dataframe thead th {\n",
       "        text-align: right;\n",
       "    }\n",
       "</style>\n",
       "<table border=\"1\" class=\"dataframe\">\n",
       "  <thead>\n",
       "    <tr style=\"text-align: right;\">\n",
       "      <th></th>\n",
       "      <th>feature_importance</th>\n",
       "    </tr>\n",
       "  </thead>\n",
       "  <tbody>\n",
       "    <tr>\n",
       "      <th>147</th>\n",
       "      <td>0.011615</td>\n",
       "    </tr>\n",
       "    <tr>\n",
       "      <th>149</th>\n",
       "      <td>0.011014</td>\n",
       "    </tr>\n",
       "    <tr>\n",
       "      <th>165</th>\n",
       "      <td>0.009654</td>\n",
       "    </tr>\n",
       "    <tr>\n",
       "      <th>148</th>\n",
       "      <td>0.008489</td>\n",
       "    </tr>\n",
       "    <tr>\n",
       "      <th>163</th>\n",
       "      <td>0.008319</td>\n",
       "    </tr>\n",
       "    <tr>\n",
       "      <th>174</th>\n",
       "      <td>0.008238</td>\n",
       "    </tr>\n",
       "    <tr>\n",
       "      <th>164</th>\n",
       "      <td>0.007838</td>\n",
       "    </tr>\n",
       "    <tr>\n",
       "      <th>172</th>\n",
       "      <td>0.007802</td>\n",
       "    </tr>\n",
       "    <tr>\n",
       "      <th>91</th>\n",
       "      <td>0.007792</td>\n",
       "    </tr>\n",
       "    <tr>\n",
       "      <th>78</th>\n",
       "      <td>0.007706</td>\n",
       "    </tr>\n",
       "  </tbody>\n",
       "</table>\n",
       "</div>"
      ],
      "text/plain": [
       "     feature_importance\n",
       "147            0.011615\n",
       "149            0.011014\n",
       "165            0.009654\n",
       "148            0.008489\n",
       "163            0.008319\n",
       "174            0.008238\n",
       "164            0.007838\n",
       "172            0.007802\n",
       "91             0.007792\n",
       "78             0.007706"
      ]
     },
     "execution_count": 22,
     "metadata": {},
     "output_type": "execute_result"
    }
   ],
   "source": [
    "best_features.nlargest(10, 'feature_importance')"
   ]
  },
  {
   "cell_type": "markdown",
   "id": "a927f943",
   "metadata": {},
   "source": [
    "## 2. График, показывающий результат оценки зависимости точности модели и числа выбранных признаков"
   ]
  },
  {
   "cell_type": "markdown",
   "id": "44f28a8d",
   "metadata": {},
   "source": [
    "Соберём результаты оценки"
   ]
  },
  {
   "cell_type": "code",
   "execution_count": 23,
   "id": "3d130ecd",
   "metadata": {},
   "outputs": [],
   "source": [
    "number_of_features_list = list(range(1, 11))\n",
    "accuracy_list = []"
   ]
  },
  {
   "cell_type": "code",
   "execution_count": 24,
   "id": "03f0557a",
   "metadata": {},
   "outputs": [],
   "source": [
    "# оценим точность для каждого количества функций\n",
    "for number in number_of_features_list:\n",
    "    # выберите количество (number) наилучших функций для обучения\n",
    "    features = list(best_features.nlargest(number, 'feature_importance').index)\n",
    "    accuracy = 0\n",
    "    tests_count = 3\n",
    "\n",
    "    # вычислим среднюю точность по (tests_count) экспериментам\n",
    "    for i in range(tests_count):\n",
    "        model = MLPClassifier(max_iter=400, random_state=i*10)\n",
    "        # проверяем соответстветствие набора обучающих данных только с выбранными функциями\n",
    "        model.fit(x_train[:,features], y_train)\n",
    "        # прогнозируем из набора данных тестирования только с выбранными функциями\n",
    "        y_pred = model.predict(x_test[:,features])\n",
    "        # оцениваем точность для текущей итерации\n",
    "        accuracy += accuracy_score(y_test, y_pred)\n",
    "        \n",
    "    accuracy /= tests_count\n",
    "    accuracy_list.append(accuracy)"
   ]
  },
  {
   "cell_type": "markdown",
   "id": "77160653",
   "metadata": {},
   "source": [
    "Построим график, показывающий результат оценки зависимости точности модели и числа выбранных признаков"
   ]
  },
  {
   "cell_type": "code",
   "execution_count": 25,
   "id": "d20d3fac",
   "metadata": {},
   "outputs": [
    {
     "data": {
      "image/png": "[encoded data removed]",
      "text/plain": [
       "<Figure size 432x288 with 1 Axes>"
      ]
     },
     "metadata": {
      "needs_background": "light"
     },
     "output_type": "display_data"
    }
   ],
   "source": [
    "plt.plot(number_of_features_list, accuracy_list)\n",
    "plt.grid()\n",
    "plt.xlabel('number of features')\n",
    "plt.ylabel('accuracy')\n",
    "plt.show()"
   ]
  },
  {
   "cell_type": "markdown",
   "id": "03c1ee8f",
   "metadata": {},
   "source": [
    "# 3. Таблица, содержащая f1-score, precision, и recall, полученные для лучшей обученной модели"
   ]
  },
  {
   "cell_type": "markdown",
   "id": "0b73eabe",
   "metadata": {},
   "source": [
    "Создаём модель, используя выбор функций и перекрестную проверку, и обучаем её на обучающем наборе"
   ]
  },
  {
   "cell_type": "code",
   "execution_count": 26,
   "id": "bf930205",
   "metadata": {},
   "outputs": [],
   "source": [
    "model = MLPClassifier(max_iter=400, random_state=0)"
   ]
  },
  {
   "cell_type": "code",
   "execution_count": 27,
   "id": "65d514c8",
   "metadata": {},
   "outputs": [],
   "source": [
    "parameters = {\n",
    "    'hidden_layer_sizes': [(50,), (100,), (150,)]\n",
    "}"
   ]
  },
  {
   "cell_type": "markdown",
   "id": "b8427ed9",
   "metadata": {},
   "source": [
    "estimator: объект оценщика, который вы создали\n",
    "\n",
    "params_grid: объект словаря, содержащий гиперпараметры, которые вы хотите попробовать\n",
    "\n",
    "scoring: метрика оценки, которую вы хотите использовать, вы можете просто передать действительную строку / объект метрики оценки\n",
    "\n",
    "refit:\n",
    "Если при выборе лучшего оценщика есть соображения, отличные от максимального балла, refit может быть настроен на функцию, которая возвращает выбранный best_index_ с заданным cv_results_. В этом случае best_estimator_ и best_params_ будут установлены в соответствии с возвращенным best_index_, в то время как атрибут best_score_ будет недоступен.\n",
    "Переоборудованный оценщик доступен в атрибуте best_estimator_ и позволяет использовать прогноз непосредственно в этом экземпляре GridSearchCV."
   ]
  },
  {
   "cell_type": "code",
   "execution_count": 28,
   "id": "758df5fb",
   "metadata": {},
   "outputs": [],
   "source": [
    "search = GridSearchCV(\n",
    "    estimator=model,\n",
    "    param_grid=parameters,\n",
    "    scoring=['f1_macro','precision_macro','recall_macro'],\n",
    "    refit='f1_macro'\n",
    ")"
   ]
  },
  {
   "cell_type": "markdown",
   "id": "3bee3639",
   "metadata": {},
   "source": [
    "Добавляем в набор обучающих данных только десять лучших функций, полученных из предыдущего задания, чтобы ускорить процесс обучения"
   ]
  },
  {
   "cell_type": "code",
   "execution_count": 29,
   "id": "e3eb9b99",
   "metadata": {},
   "outputs": [
    {
     "data": {
      "text/plain": [
       "MLPClassifier(max_iter=400, random_state=0)"
      ]
     },
     "execution_count": 29,
     "metadata": {},
     "output_type": "execute_result"
    }
   ],
   "source": [
    "ten_best_features = list(best_features.nlargest(10, 'feature_importance').index)\n",
    "search.fit(x_train[:,ten_best_features], y_train)\n",
    "cls = search.best_estimator_\n",
    "cls"
   ]
  },
  {
   "cell_type": "markdown",
   "id": "57fda0d6",
   "metadata": {},
   "source": [
    "Демонстрируем таблицу результатов (каждая строка соответствует одному сгибу)"
   ]
  },
  {
   "cell_type": "code",
   "execution_count": 30,
   "id": "c61a9f9a",
   "metadata": {},
   "outputs": [
    {
     "data": {
      "text/html": [
       "<div>\n",
       "<style scoped>\n",
       "    .dataframe tbody tr th:only-of-type {\n",
       "        vertical-align: middle;\n",
       "    }\n",
       "\n",
       "    .dataframe tbody tr th {\n",
       "        vertical-align: top;\n",
       "    }\n",
       "\n",
       "    .dataframe thead th {\n",
       "        text-align: right;\n",
       "    }\n",
       "</style>\n",
       "<table border=\"1\" class=\"dataframe\">\n",
       "  <thead>\n",
       "    <tr style=\"text-align: right;\">\n",
       "      <th></th>\n",
       "      <th>mean_test_f1_macro</th>\n",
       "      <th>mean_test_precision_macro</th>\n",
       "      <th>mean_test_recall_macro</th>\n",
       "    </tr>\n",
       "  </thead>\n",
       "  <tbody>\n",
       "    <tr>\n",
       "      <th>0</th>\n",
       "      <td>0.676053</td>\n",
       "      <td>0.728261</td>\n",
       "      <td>0.661139</td>\n",
       "    </tr>\n",
       "    <tr>\n",
       "      <th>1</th>\n",
       "      <td>0.692436</td>\n",
       "      <td>0.727758</td>\n",
       "      <td>0.684059</td>\n",
       "    </tr>\n",
       "    <tr>\n",
       "      <th>2</th>\n",
       "      <td>0.678788</td>\n",
       "      <td>0.731769</td>\n",
       "      <td>0.660787</td>\n",
       "    </tr>\n",
       "  </tbody>\n",
       "</table>\n",
       "</div>"
      ],
      "text/plain": [
       "   mean_test_f1_macro  mean_test_precision_macro  mean_test_recall_macro\n",
       "0            0.676053                   0.728261                0.661139\n",
       "1            0.692436                   0.727758                0.684059\n",
       "2            0.678788                   0.731769                0.660787"
      ]
     },
     "execution_count": 30,
     "metadata": {},
     "output_type": "execute_result"
    }
   ],
   "source": [
    "results = search.cv_results_\n",
    "results_df = pd.DataFrame(results)\n",
    "results_df[['mean_test_f1_macro','mean_test_precision_macro','mean_test_recall_macro']]"
   ]
  },
  {
   "cell_type": "markdown",
   "id": "ca487582",
   "metadata": {},
   "source": [
    "# 4. Визуализация пресказаний лучшей модели"
   ]
  },
  {
   "cell_type": "code",
   "execution_count": 31,
   "id": "ced3933e",
   "metadata": {},
   "outputs": [],
   "source": [
    "train_preds = cls.predict(x_train[:,ten_best_features])\n",
    "test_preds = cls.predict(x_test[:,ten_best_features])"
   ]
  },
  {
   "cell_type": "code",
   "execution_count": 32,
   "id": "78dbff02",
   "metadata": {},
   "outputs": [],
   "source": [
    "predictions_map = np.zeros_like(mask)"
   ]
  },
  {
   "cell_type": "code",
   "execution_count": 33,
   "id": "5d9fb793",
   "metadata": {},
   "outputs": [],
   "source": [
    "for (y, x), pred in zip(train_indices, train_preds):\n",
    "    predictions_map[y, x] = pred\n",
    "    \n",
    "for (y, x), pred in zip(test_indices, test_preds):\n",
    "    predictions_map[y, x] = pred"
   ]
  },
  {
   "cell_type": "code",
   "execution_count": 34,
   "id": "1930cea5",
   "metadata": {},
   "outputs": [
    {
     "data": {
      "text/plain": [
       "Text(0.5, 1.0, 'Predictions')"
      ]
     },
     "execution_count": 34,
     "metadata": {},
     "output_type": "execute_result"
    },
    {
     "data": {
      "image/png": "[encoded data removed]",
      "text/plain": [
       "<Figure size 1080x720 with 4 Axes>"
      ]
     },
     "metadata": {
      "needs_background": "light"
     },
     "output_type": "display_data"
    }
   ],
   "source": [
    "fig, (ax1, ax2) = plt.subplots(ncols=2, figsize=(15, 10))\n",
    "sns.heatmap(mask, ax=ax1)\n",
    "sns.heatmap(predictions_map, ax=ax2)\n",
    "ax1.set_title('Mask')\n",
    "ax2.set_title('Predictions')"
   ]
  },
  {
   "cell_type": "markdown",
   "id": "803f7cd6",
   "metadata": {},
   "source": [
    "## Вывод\n",
    "\n",
    "Исходя из полученных результатов можно сделать вывод, что точность модели повышается с увеличением количества признаков, участвующих в обучении"
   ]
  }
 ],
 "metadata": {
  "kernelspec": {
   "display_name": "Python 3",
   "language": "python",
   "name": "python3"
  },
  "language_info": {
   "codemirror_mode": {
    "name": "ipython",
    "version": 3
   },
   "file_extension": ".py",
   "mimetype": "text/x-python",
   "name": "python",
   "nbconvert_exporter": "python",
   "pygments_lexer": "ipython3",
   "version": "3.8.8"
  }
 },
 "nbformat": 4,
 "nbformat_minor": 5
}
