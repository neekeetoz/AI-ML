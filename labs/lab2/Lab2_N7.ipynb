{
 "cells": [
  {
   "cell_type": "markdown",
   "metadata": {
    "id": "CEK-24oQ-eCP"
   },
   "source": [
    "# Клепиков Никита\n",
    "Вариант 7\n",
    "\n",
    "Группа 6132"
   ]
  },
  {
   "cell_type": "code",
   "execution_count": 177,
   "metadata": {
    "id": "OXlZtjg1-eCR"
   },
   "outputs": [],
   "source": [
    "import numpy as np\n",
    "from sklearn.naive_bayes import GaussianNB, MultinomialNB, ComplementNB, BernoulliNB\n",
    "from sklearn.metrics import confusion_matrix\n",
    "from sklearn.utils import shuffle\n",
    "from sklearn.model_selection import train_test_split\n",
    "from sklearn.preprocessing import MinMaxScaler\n",
    "import matplotlib.pyplot as plt\n",
    "import seaborn as sns\n",
    "import pandas as pd\n",
    "from scipy.stats import norm\n",
    "import time"
   ]
  },
  {
   "cell_type": "code",
   "execution_count": 178,
   "metadata": {
    "id": "BPngOeAd-eCT"
   },
   "outputs": [],
   "source": [
    "class gaussNB():\n",
    "    def fit(self, X, y):\n",
    "        self.means = X.groupby(y).apply(np.mean)\n",
    "        self.stds = X.groupby(y).apply(np.std)\n",
    "        self.probs = X.groupby(y).apply(lambda x: len(x)) / X.shape[0]\n",
    "        self.classes = np.unique(y)\n",
    "        \n",
    "    def predict(self, X):\n",
    "        y_pred = []\n",
    "        for elem in range(X.shape[0]):\n",
    "            p = {}\n",
    "    \n",
    "            for cl in self.classes:\n",
    "                p[cl] = self.probs.iloc[cl]\n",
    "                for index, param in enumerate(X.iloc[elem]):\n",
    "                    p[cl] *= norm.pdf(param, self.means.iloc[cl, index], self.stds.iloc[cl, index])\n",
    "            y_pred.append(pd.Series(p).values.argmax())\n",
    "         \n",
    "        return y_pred"
   ]
  },
  {
   "cell_type": "code",
   "execution_count": 179,
   "metadata": {
    "id": "xTaRzg0l-eCT"
   },
   "outputs": [],
   "source": [
    "def generate_data(M=775, shift=2, L=0.705, R=0.712, pos_shift=10):\n",
    "    noise = np.random.randn(M, 2) \n",
    "    \n",
    "    cloud_1 = noise + np.array([shift, shift * 2])\n",
    "    cloud_2 = noise + np.array([shift, -shift])\n",
    "    cloud_3 = noise + np.array([-shift, shift*2])\n",
    "    cloud_4 = noise + np.array([-shift, -shift])\n",
    "    cloud_5 = noise + np.array([shift*2, shift*1.25])\n",
    "    cloud_6 = noise + np.array([shift*2, 0])\n",
    "    cloud_7 = noise + np.array([-shift*2, shift*0.5])\n",
    "    \n",
    "    XY = np.vstack([cloud_1, cloud_2, cloud_3, cloud_4, cloud_5, cloud_6, cloud_7])\n",
    "    XY.shape\n",
    "    \n",
    "    annotation_1 = [0]*M\n",
    "    annotation_2 = [1]*M\n",
    "    annotation_3 = [2]*M\n",
    "    annotation_4 = [3]*M\n",
    "    annotation_5 = [4]*M\n",
    "    annotation_6 = [5]*M\n",
    "    annotation_7 = [6]*M\n",
    "    \n",
    "    annotations = annotation_1 + annotation_2 + annotation_3 + annotation_4 + annotation_5 + annotation_6 + annotation_7\n",
    "    \n",
    "    data, labels = shuffle(XY, annotations)\n",
    "    data = pd.DataFrame(data)\n",
    "    \n",
    "    return train_test_split(data, labels, test_size=0.5)"
   ]
  },
  {
   "cell_type": "code",
   "execution_count": 180,
   "metadata": {
    "id": "EycepwEJ-eCU"
   },
   "outputs": [],
   "source": [
    "def make_explore(model, X_train, X_test, y_train, y_test):\n",
    "    # model's fit:\n",
    "    start_time_fit = time.time()\n",
    "    model.fit(X_train, y_train)\n",
    "    end_time_fit = time.time()\n",
    "    time_fit = float(str(\"%s\" % (end_time_fit - start_time_fit)))\n",
    "    \n",
    "    #model's pred:\n",
    "    start_time_pred = time.time()\n",
    "    y_pred = model.predict(X_test)\n",
    "    end_time_pred = time.time()\n",
    "    time_pred = float(str(\"%s\" % (end_time_pred - start_time_pred)))\n",
    "\n",
    "    acc_score = accuracy_score(y_pred, y_test)*100\n",
    "    \n",
    "    temp_scores_data= pd.DataFrame({'accuracy_score': [acc_score], \n",
    "                                          'time_fit':[time_fit],\n",
    "                                         'time_pred':[time_pred]})\n",
    "    \n",
    "    return temp_scores_data"
   ]
  },
  {
   "cell_type": "code",
   "execution_count": 181,
   "metadata": {},
   "outputs": [],
   "source": [
    "scores_data_GNB, scores_data_GaussianNB, scores_data_MultinomialNB, scores_data_ComplementNB, scores_data_BernoulliNB = pd.DataFrame(), pd.DataFrame(), pd.DataFrame(), pd.DataFrame(), pd.DataFrame()\n",
    "evaluation_count = 15\n",
    "from sklearn.metrics import accuracy_score\n",
    "\n",
    "X_train, X_test, y_train, y_test = generate_data()\n",
    "\n",
    "scaler = MinMaxScaler()\n",
    "X_train_scaler = scaler.fit_transform(X_train)\n",
    "X_test_scaler = scaler.fit_transform(X_test)\n",
    "\n",
    "for i in range(evaluation_count):\n",
    "    \n",
    "    \n",
    "    \n",
    "    model_GNB, model_GaussianNB, model_MultinomialNB, model_ComplementNB, model_BernoulliNB =  gaussNB(), GaussianNB(), MultinomialNB(), ComplementNB(), BernoulliNB()\n",
    "    scores_data_GNB = scores_data_GNB.append(make_explore(model_GNB, \n",
    "                                                          X_train, \n",
    "                                                          X_test, \n",
    "                                                          y_train, \n",
    "                                                          y_test))\n",
    "    scores_data_GaussianNB = scores_data_GaussianNB.append(make_explore(model_GaussianNB, \n",
    "                                                                        X_train, \n",
    "                                                                        X_test, \n",
    "                                                                        y_train, \n",
    "                                                                        y_test))\n",
    "    scores_data_MultinomialNB = scores_data_MultinomialNB.append(make_explore(model_MultinomialNB, \n",
    "                                                                              X_train_scaler, \n",
    "                                                                              X_test_scaler, \n",
    "                                                                              y_train, \n",
    "                                                                              y_test))\n",
    "    scores_data_ComplementNB = scores_data_ComplementNB.append(make_explore(model_ComplementNB, \n",
    "                                                                            X_train_scaler, \n",
    "                                                                            X_test_scaler, \n",
    "                                                                            y_train, \n",
    "                                                                            y_test))\n",
    "    scores_data_BernoulliNB = scores_data_BernoulliNB.append(make_explore(model_BernoulliNB, \n",
    "                                                                          X_train, \n",
    "                                                                          X_test, \n",
    "                                                                          y_train, \n",
    "                                                                          y_test))"
   ]
  },
  {
   "cell_type": "code",
   "execution_count": 182,
   "metadata": {
    "id": "z9VKAxcF-eCW"
   },
   "outputs": [],
   "source": [
    "scores_data_GNB = scores_data_GNB.set_index([pd.Index(range(15))])\n",
    "scores_data_GaussianNB = scores_data_GaussianNB.set_index([pd.Index(range(15))])\n",
    "scores_data_MultinomialNB = scores_data_MultinomialNB.set_index([pd.Index(range(15))])\n",
    "scores_data_ComplementNB = scores_data_ComplementNB.set_index([pd.Index(range(15))])\n",
    "scores_data_BernoulliNB = scores_data_BernoulliNB.set_index([pd.Index(range(15))])"
   ]
  },
  {
   "cell_type": "markdown",
   "metadata": {
    "id": "vfNQHQ2y-eCW"
   },
   "source": [
    "# 1. График производительности"
   ]
  },
  {
   "cell_type": "code",
   "execution_count": 183,
   "metadata": {
    "id": "Lm3EdxBg-eCW"
   },
   "outputs": [],
   "source": [
    "df = pd.DataFrame(columns=['model_name', 'accuracy_score', 'time_fit', 'time_pred', 'quality'])"
   ]
  },
  {
   "cell_type": "markdown",
   "metadata": {
    "id": "-qj4xvOb-eCX"
   },
   "source": [
    "Качество производительности будет оцениваться как СКО / матожидание:"
   ]
  },
  {
   "cell_type": "code",
   "execution_count": 184,
   "metadata": {
    "id": "jyV2-Zvg-eCX"
   },
   "outputs": [],
   "source": [
    "quality = []\n",
    "quality.append(scores_data_GNB['time_pred'].std() / scores_data_GNB['time_pred'].mean())\n",
    "quality.append(scores_data_GaussianNB['time_pred'].std() / scores_data_GaussianNB['time_pred'].mean())\n",
    "quality.append(scores_data_MultinomialNB['time_pred'].std() / scores_data_MultinomialNB['time_pred'].mean())\n",
    "quality.append(scores_data_ComplementNB['time_pred'].std() / scores_data_ComplementNB['time_pred'].mean())\n",
    "quality.append(scores_data_BernoulliNB['time_pred'].std() / scores_data_BernoulliNB['time_pred'].mean())"
   ]
  },
  {
   "cell_type": "code",
   "execution_count": 185,
   "metadata": {
    "id": "bCqtj6xs-eCX"
   },
   "outputs": [],
   "source": [
    "df = df.append({'model_name':'My_Gauss',\n",
    "                \"accuracy_score\":scores_data_GNB['accuracy_score'].mean(),\n",
    "          \"time_fit\":scores_data_GNB['time_fit'].mean(),\n",
    "            \"time_pred\":scores_data_GNB['time_pred'].mean(), 'quality': quality[0]}, ignore_index=True)\n",
    "df = df.append({'model_name':'GaussianNB', \n",
    "                \"accuracy_score\":scores_data_GaussianNB['accuracy_score'].mean(),\n",
    "          \"time_fit\":scores_data_GaussianNB['time_fit'].mean(),\n",
    "            \"time_pred\":scores_data_GaussianNB['time_pred'].mean(), 'quality': quality[1]}, ignore_index=True)\n",
    "df = df.append({'model_name':'MultinomialNB', \n",
    "                \"accuracy_score\":scores_data_MultinomialNB['accuracy_score'].mean(),\n",
    "          \"time_fit\":scores_data_MultinomialNB['time_fit'].mean(),\n",
    "            \"time_pred\":scores_data_MultinomialNB['time_pred'].mean(), 'quality': quality[2]}, ignore_index=True)\n",
    "df = df.append({'model_name':'ComplementNB',\n",
    "                \"accuracy_score\":scores_data_ComplementNB['accuracy_score'].mean(),\n",
    "          \"time_fit\":scores_data_ComplementNB['time_fit'].mean(),\n",
    "            \"time_pred\":scores_data_ComplementNB['time_pred'].mean(), 'quality': quality[3]}, ignore_index=True)\n",
    "df = df.append({'model_name':'BernoulliNB',\n",
    "                \"accuracy_score\":scores_data_BernoulliNB['accuracy_score'].mean(),\n",
    "          \"time_fit\":scores_data_BernoulliNB['time_fit'].mean(),\n",
    "            \"time_pred\":scores_data_BernoulliNB['time_pred'].mean(), 'quality': quality[4]}, ignore_index=True)"
   ]
  },
  {
   "cell_type": "code",
   "execution_count": 186,
   "metadata": {
    "id": "X1Rp-eL7-eCX"
   },
   "outputs": [],
   "source": [
    "df = df.set_index('model_name')"
   ]
  },
  {
   "cell_type": "code",
   "execution_count": 187,
   "metadata": {
    "colab": {
     "base_uri": "https://localhost:8080/",
     "height": 234
    },
    "id": "XdE1epM_-eCY",
    "outputId": "12ea783a-fb5c-4e68-9ffa-3dcf17fa1445"
   },
   "outputs": [
    {
     "data": {
      "text/html": [
       "<div>\n",
       "<style scoped>\n",
       "    .dataframe tbody tr th:only-of-type {\n",
       "        vertical-align: middle;\n",
       "    }\n",
       "\n",
       "    .dataframe tbody tr th {\n",
       "        vertical-align: top;\n",
       "    }\n",
       "\n",
       "    .dataframe thead th {\n",
       "        text-align: right;\n",
       "    }\n",
       "</style>\n",
       "<table border=\"1\" class=\"dataframe\">\n",
       "  <thead>\n",
       "    <tr style=\"text-align: right;\">\n",
       "      <th></th>\n",
       "      <th>accuracy_score</th>\n",
       "      <th>time_fit</th>\n",
       "      <th>time_pred</th>\n",
       "      <th>quality</th>\n",
       "    </tr>\n",
       "    <tr>\n",
       "      <th>model_name</th>\n",
       "      <th></th>\n",
       "      <th></th>\n",
       "      <th></th>\n",
       "      <th></th>\n",
       "    </tr>\n",
       "  </thead>\n",
       "  <tbody>\n",
       "    <tr>\n",
       "      <th>My_Gauss</th>\n",
       "      <td>86.841135</td>\n",
       "      <td>0.018121</td>\n",
       "      <td>11.878571</td>\n",
       "      <td>0.037595</td>\n",
       "    </tr>\n",
       "    <tr>\n",
       "      <th>GaussianNB</th>\n",
       "      <td>86.841135</td>\n",
       "      <td>0.002945</td>\n",
       "      <td>0.002076</td>\n",
       "      <td>0.217550</td>\n",
       "    </tr>\n",
       "    <tr>\n",
       "      <th>MultinomialNB</th>\n",
       "      <td>33.800221</td>\n",
       "      <td>0.001896</td>\n",
       "      <td>0.000066</td>\n",
       "      <td>3.872983</td>\n",
       "    </tr>\n",
       "    <tr>\n",
       "      <th>ComplementNB</th>\n",
       "      <td>28.824180</td>\n",
       "      <td>0.001640</td>\n",
       "      <td>0.000039</td>\n",
       "      <td>3.664401</td>\n",
       "    </tr>\n",
       "    <tr>\n",
       "      <th>BernoulliNB</th>\n",
       "      <td>54.478437</td>\n",
       "      <td>0.002675</td>\n",
       "      <td>0.001552</td>\n",
       "      <td>0.305864</td>\n",
       "    </tr>\n",
       "  </tbody>\n",
       "</table>\n",
       "</div>"
      ],
      "text/plain": [
       "               accuracy_score  time_fit  time_pred   quality\n",
       "model_name                                                  \n",
       "My_Gauss            86.841135  0.018121  11.878571  0.037595\n",
       "GaussianNB          86.841135  0.002945   0.002076  0.217550\n",
       "MultinomialNB       33.800221  0.001896   0.000066  3.872983\n",
       "ComplementNB        28.824180  0.001640   0.000039  3.664401\n",
       "BernoulliNB         54.478437  0.002675   0.001552  0.305864"
      ]
     },
     "execution_count": 187,
     "metadata": {},
     "output_type": "execute_result"
    }
   ],
   "source": [
    "df"
   ]
  },
  {
   "cell_type": "code",
   "execution_count": 188,
   "metadata": {
    "colab": {
     "base_uri": "https://localhost:8080/",
     "height": 365
    },
    "id": "Ak7o8dpF-eCY",
    "outputId": "f101f025-7232-4e96-e6e1-4f4ff5ae74da"
   },
   "outputs": [
    {
     "data": {
      "text/plain": [
       "<AxesSubplot:xlabel='model_name'>"
      ]
     },
     "execution_count": 188,
     "metadata": {},
     "output_type": "execute_result"
    },
    {
     "data": {
      "image/png": "[encoded data removed]",
      "text/plain": [
       "<Figure size 432x288 with 1 Axes>"
      ]
     },
     "metadata": {
      "needs_background": "light"
     },
     "output_type": "display_data"
    }
   ],
   "source": [
    "df['time_pred'].plot.bar()"
   ]
  },
  {
   "cell_type": "markdown",
   "metadata": {
    "id": "DjWuYqeK-eCY"
   },
   "source": [
    "# 2. Стабильная производительность:"
   ]
  },
  {
   "cell_type": "code",
   "execution_count": 189,
   "metadata": {
    "colab": {
     "base_uri": "https://localhost:8080/"
    },
    "id": "HgdUz15i-eCZ",
    "outputId": "d686f1a8-9f67-4d47-9a67-fb61f971d517"
   },
   "outputs": [
    {
     "name": "stdout",
     "output_type": "stream",
     "text": [
      "Наилучшая стабильная производительность у классификатора: My_Gauss\n"
     ]
    }
   ],
   "source": [
    "df = df.sort_values(by=['quality'])\n",
    "print(\"Наилучшая стабильная производительность у классификатора: {}\".format(df.index[0]))"
   ]
  },
  {
   "cell_type": "markdown",
   "metadata": {
    "id": "dCHyCtOz-eCZ"
   },
   "source": [
    "# 3. Матрицы ошибок:"
   ]
  },
  {
   "cell_type": "code",
   "execution_count": 190,
   "metadata": {
    "id": "DW0-_bVG-eCZ"
   },
   "outputs": [],
   "source": [
    "X_train, X_test, y_train, y_test = generate_data()\n",
    "\n",
    "model_GNB, model_GaussianNB, model_MultinomialNB, model_ComplementNB, model_BernoulliNB =  gaussNB(), GaussianNB(), MultinomialNB(), ComplementNB(), BernoulliNB()"
   ]
  },
  {
   "cell_type": "code",
   "execution_count": 191,
   "metadata": {
    "colab": {
     "base_uri": "https://localhost:8080/",
     "height": 282
    },
    "id": "x-TmZvbK-eCZ",
    "outputId": "4ae83219-6834-4e41-ea8e-d5d0180d8142"
   },
   "outputs": [
    {
     "data": {
      "text/plain": [
       "<AxesSubplot:>"
      ]
     },
     "execution_count": 191,
     "metadata": {},
     "output_type": "execute_result"
    },
    {
     "data": {
      "image/png": "[encoded data removed]",
      "text/plain": [
       "<Figure size 432x288 with 2 Axes>"
      ]
     },
     "metadata": {
      "needs_background": "light"
     },
     "output_type": "display_data"
    }
   ],
   "source": [
    "model_GNB.fit(X_train, y_train)\n",
    "y_pred = model_GNB.predict(X_test)\n",
    "conf_mat = confusion_matrix(y_test, y_pred)\n",
    "sns.heatmap(conf_mat, annot=True)"
   ]
  },
  {
   "cell_type": "code",
   "execution_count": 192,
   "metadata": {
    "colab": {
     "base_uri": "https://localhost:8080/",
     "height": 282
    },
    "id": "p6pg1kKB-eCZ",
    "outputId": "540cb66c-4a17-4ed5-9d06-e41f1bb57981"
   },
   "outputs": [
    {
     "data": {
      "text/plain": [
       "<AxesSubplot:>"
      ]
     },
     "execution_count": 192,
     "metadata": {},
     "output_type": "execute_result"
    },
    {
     "data": {
      "image/png": "[encoded data removed]",
      "text/plain": [
       "<Figure size 432x288 with 2 Axes>"
      ]
     },
     "metadata": {
      "needs_background": "light"
     },
     "output_type": "display_data"
    }
   ],
   "source": [
    "model_GaussianNB.fit(X_train, y_train)\n",
    "y_pred = model_GaussianNB.predict(X_test)\n",
    "conf_mat = confusion_matrix(y_test, y_pred)\n",
    "sns.heatmap(conf_mat, annot=True)"
   ]
  },
  {
   "cell_type": "code",
   "execution_count": 193,
   "metadata": {
    "colab": {
     "base_uri": "https://localhost:8080/",
     "height": 282
    },
    "id": "Uxj21l0L-eCa",
    "outputId": "d911b9eb-ca1c-42cb-cd26-dd8fcfff59f0"
   },
   "outputs": [
    {
     "data": {
      "text/plain": [
       "<AxesSubplot:>"
      ]
     },
     "execution_count": 193,
     "metadata": {},
     "output_type": "execute_result"
    },
    {
     "data": {
      "image/png": "[encoded data removed]",
      "text/plain": [
       "<Figure size 432x288 with 2 Axes>"
      ]
     },
     "metadata": {
      "needs_background": "light"
     },
     "output_type": "display_data"
    }
   ],
   "source": [
    "model_MultinomialNB.fit(X_train_scaler, y_train)\n",
    "y_pred = model_MultinomialNB.predict(X_test_scaler)\n",
    "conf_mat = confusion_matrix(y_test, y_pred)\n",
    "sns.heatmap(conf_mat, annot=True)"
   ]
  },
  {
   "cell_type": "code",
   "execution_count": 194,
   "metadata": {
    "colab": {
     "base_uri": "https://localhost:8080/",
     "height": 282
    },
    "id": "QJSClewD-eCa",
    "outputId": "4baf5338-cb54-4f87-8bc4-20974d40693b"
   },
   "outputs": [
    {
     "data": {
      "text/plain": [
       "<AxesSubplot:>"
      ]
     },
     "execution_count": 194,
     "metadata": {},
     "output_type": "execute_result"
    },
    {
     "data": {
      "image/png": "[encoded data removed]",
      "text/plain": [
       "<Figure size 432x288 with 2 Axes>"
      ]
     },
     "metadata": {
      "needs_background": "light"
     },
     "output_type": "display_data"
    }
   ],
   "source": [
    "model_ComplementNB.fit(X_train_scaler, y_train)\n",
    "y_pred = model_ComplementNB.predict(X_test_scaler)\n",
    "conf_mat = confusion_matrix(y_test, y_pred)\n",
    "sns.heatmap(conf_mat, annot=True)"
   ]
  },
  {
   "cell_type": "code",
   "execution_count": 195,
   "metadata": {
    "colab": {
     "base_uri": "https://localhost:8080/",
     "height": 282
    },
    "id": "wEJJ1egD-eCa",
    "outputId": "b4990592-a42c-48bd-b450-f2da56c1aed6"
   },
   "outputs": [
    {
     "data": {
      "text/plain": [
       "<AxesSubplot:>"
      ]
     },
     "execution_count": 195,
     "metadata": {},
     "output_type": "execute_result"
    },
    {
     "data": {
      "image/png": "[encoded data removed]",
      "text/plain": [
       "<Figure size 432x288 with 2 Axes>"
      ]
     },
     "metadata": {
      "needs_background": "light"
     },
     "output_type": "display_data"
    }
   ],
   "source": [
    "model_BernoulliNB.fit(X_train, y_train)\n",
    "y_pred = model_BernoulliNB.predict(X_test)\n",
    "conf_mat = confusion_matrix(y_test, y_pred)\n",
    "sns.heatmap(conf_mat, annot=True)"
   ]
  },
  {
   "cell_type": "markdown",
   "metadata": {
    "id": "ZwXdLvt2-eCa"
   },
   "source": [
    "# 4 Наиболее качественный классификатор:"
   ]
  },
  {
   "cell_type": "code",
   "execution_count": 196,
   "metadata": {
    "colab": {
     "base_uri": "https://localhost:8080/"
    },
    "id": "pwXpKFCZ-eCb",
    "outputId": "b77fee0e-7e64-4485-8593-2db1bb8decc8"
   },
   "outputs": [
    {
     "name": "stdout",
     "output_type": "stream",
     "text": [
      "Наилучшую точность обеспечивает классификатор: GaussianNB\n"
     ]
    }
   ],
   "source": [
    "df = df.sort_values(by=['accuracy_score'])\n",
    "print('Наилучшую точность обеспечивает классификатор: {}'.format(df.index[4]))"
   ]
  }
 ],
 "metadata": {
  "colab": {
   "name": "Lab2_N18-2.ipynb",
   "provenance": []
  },
  "kernelspec": {
   "display_name": "Python 3",
   "language": "python",
   "name": "python3"
  },
  "language_info": {
   "codemirror_mode": {
    "name": "ipython",
    "version": 3
   },
   "file_extension": ".py",
   "mimetype": "text/x-python",
   "name": "python",
   "nbconvert_exporter": "python",
   "pygments_lexer": "ipython3",
   "version": "3.8.8"
  }
 },
 "nbformat": 4,
 "nbformat_minor": 1
}
